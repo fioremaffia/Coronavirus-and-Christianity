{
 "cells": [
  {
   "cell_type": "markdown",
   "metadata": {},
   "source": [
    "# Coronavirus: A Faith Response"
   ]
  },
  {
   "cell_type": "markdown",
   "metadata": {},
   "source": [
    "### Coronavirus has been the most spoken topic of 2020 so far. The first news of its outbreak came out by the end of January and then many cases were registered all over the world. That was the start of the global pandemic. Many countries went in lockdown, shops were closed, only supermarket, pharmacies and hospital were open. All over the world was possible to notice people disappointment and anger towards this virus. Many times we have heard that this virus was God's punishment for all the sins committed by mankind, others instead affirmed that God had nothing to do with the virus, but that He was going to use it for a greater purpose. Our goal is to analyze the religious sentiment of people during the spreading of the virus and understand which of the two classes is predominant. Did faith increase during this period? Or people changed their mind about God? "
   ]
  },
  {
   "cell_type": "markdown",
   "metadata": {},
   "source": [
    "###### All the functions needed in this project are stored in the file \"Tweet_analysis.py\" in order to have a clearer and more readable code. So let us first import all the functions from this file"
   ]
  },
  {
   "cell_type": "code",
   "execution_count": 1,
   "metadata": {},
   "outputs": [
    {
     "name": "stderr",
     "output_type": "stream",
     "text": [
      "[nltk_data] Downloading package stopwords to\n",
      "[nltk_data]     /Users/fioremaffia/nltk_data...\n",
      "[nltk_data]   Package stopwords is already up-to-date!\n"
     ]
    }
   ],
   "source": [
    "from Tweet_analysis import *"
   ]
  },
  {
   "cell_type": "markdown",
   "metadata": {},
   "source": [
    "###### In order to perform a sentiment analysis we will use the 'twitter samples' that the library nltk offers to us. From this sample it is possible to access to 10000 tweets already tagged as positive or negative and they are going to be used to train the Bayesan Classifier."
   ]
  },
  {
   "cell_type": "code",
   "execution_count": 2,
   "metadata": {},
   "outputs": [
    {
     "name": "stderr",
     "output_type": "stream",
     "text": [
      "[nltk_data] Downloading package twitter_samples to\n",
      "[nltk_data]     /Users/fioremaffia/nltk_data...\n",
      "[nltk_data]   Package twitter_samples is already up-to-date!\n"
     ]
    }
   ],
   "source": [
    "nltk.download('twitter_samples')\n",
    "stop_words = stopwords.words('english')\n",
    "positive_tweet_tokens=[]\n",
    "positive_tweet_tokens=twitter_samples.tokenized('positive_tweets.json')\n",
    "negative_tweet_tokens=twitter_samples.tokenized('negative_tweets.json')\n",
    "positive_cleaned_token_list=[]\n",
    "negative_cleaned_token_list=[]\n",
    "for token in positive_tweet_tokens:\n",
    "    positive_cleaned_token_list.append(remove_noise(token, stop_words))\n",
    "for token in negative_tweet_tokens:\n",
    "    negative_cleaned_token_list.append(remove_noise(token, stop_words))\n"
   ]
  },
  {
   "cell_type": "code",
   "execution_count": 3,
   "metadata": {},
   "outputs": [],
   "source": [
    "positive_tokens_for_model = get_tweet_for_model(positive_cleaned_token_list)\n",
    "positive_tokens_for_model_list = list(positive_tokens_for_model)"
   ]
  },
  {
   "cell_type": "code",
   "execution_count": 4,
   "metadata": {},
   "outputs": [],
   "source": [
    "negative_tokens_for_model= get_tweet_for_model(negative_cleaned_token_list)\n",
    "negative_tokens_for_model_list = list(negative_tokens_for_model)"
   ]
  },
  {
   "cell_type": "markdown",
   "metadata": {},
   "source": [
    "###### Let us prepare the dataset with the tweets and tags by creating two lists, one for the positive and one for the negative tweets, then let us concatenate them and shuffle the obtained list. By doing so we will have the positive and negative tweets mixed up which will lead us to the phase of creating the training and testing datasets"
   ]
  },
  {
   "cell_type": "code",
   "execution_count": 5,
   "metadata": {},
   "outputs": [],
   "source": [
    "positive_dataset = [(tweet_dict, \"Positive\") for tweet_dict in positive_tokens_for_model_list]\n",
    "negative_dataset = [(tweet_dict, \"Negative\") for tweet_dict in negative_tokens_for_model_list]\n",
    "dataset = positive_dataset + negative_dataset\n",
    "random.shuffle(dataset)"
   ]
  },
  {
   "cell_type": "markdown",
   "metadata": {},
   "source": [
    "###### It was decided to use the 70% of the total dataset for the training set and the 30% for the testing set"
   ]
  },
  {
   "cell_type": "code",
   "execution_count": 6,
   "metadata": {},
   "outputs": [],
   "source": [
    "train_data = dataset[0:7000]\n",
    "test_data = dataset[7000:]"
   ]
  },
  {
   "cell_type": "markdown",
   "metadata": {},
   "source": [
    "###### Let us train the classifier on the training data"
   ]
  },
  {
   "cell_type": "code",
   "execution_count": 7,
   "metadata": {},
   "outputs": [],
   "source": [
    "classifier = NaiveBayesClassifier.train(train_data)"
   ]
  },
  {
   "cell_type": "markdown",
   "metadata": {},
   "source": [
    "###### Classifier Accuracy and Most Informative Features"
   ]
  },
  {
   "cell_type": "code",
   "execution_count": 8,
   "metadata": {},
   "outputs": [
    {
     "name": "stdout",
     "output_type": "stream",
     "text": [
      "Accuracy:   0.9966666666666667\n"
     ]
    }
   ],
   "source": [
    "print(\"Accuracy:  \"  , classify.accuracy(classifier,test_data))"
   ]
  },
  {
   "cell_type": "code",
   "execution_count": 9,
   "metadata": {},
   "outputs": [
    {
     "name": "stdout",
     "output_type": "stream",
     "text": [
      "Most Informative Features\n",
      "                      :) = True           Positi : Negati =   1639.8 : 1.0\n",
      "                follower = True           Positi : Negati =     23.4 : 1.0\n",
      "                     sad = True           Negati : Positi =     22.5 : 1.0\n",
      "                 welcome = True           Positi : Negati =     21.1 : 1.0\n",
      "                     bam = True           Positi : Negati =     18.1 : 1.0\n",
      "                  arrive = True           Positi : Negati =     14.2 : 1.0\n",
      "                followed = True           Negati : Positi =     13.2 : 1.0\n",
      "                      aw = True           Negati : Positi =     13.2 : 1.0\n",
      "               community = True           Positi : Negati =     12.8 : 1.0\n",
      "               goodnight = True           Positi : Negati =     12.2 : 1.0\n",
      "None\n"
     ]
    }
   ],
   "source": [
    "print(classifier.show_most_informative_features(10))"
   ]
  },
  {
   "cell_type": "markdown",
   "metadata": {},
   "source": [
    "### This is the part in which the connection to MongoDB is enstablished. We have uploadad around 2.240.00 tweets on mongoDB Compass, divided in 28 collections, which correspond to the tweets posted on the first three days, the middle three days and the ending three days of February, March and April and the 1st of May. In the end there will be a plot in which it is possible to see all the dates."
   ]
  },
  {
   "cell_type": "markdown",
   "metadata": {},
   "source": [
    "###### In order to work with all the collections that were uploaded it is necessary to work with dictionaries, so this is why all the functions that will be used from now on will have as return a dictionary that has as keys the collections' names, instead the values will change from dictionary to dictionary. First of all, the list collections is created in order to access each collection and it is passed to the first function. This function basically searches all the tweets that have christian words in their text and saves them in a list that is the value associated to each collection's name."
   ]
  },
  {
   "cell_type": "code",
   "execution_count": 10,
   "metadata": {},
   "outputs": [],
   "source": [
    "client = MongoClient('mongodb://localhost:27017/?readPreference=primary&appname=MongoDB%20Compass%20Community&ssl=false')\n",
    "collections = [client['Covid19']['tweets_01_02'], client['Covid19']['tweets_02_02'],client['Covid19']['tweets_03_02'], client['Covid19']['tweets_14_02'],client['Covid19']['tweets_15_02'], client['Covid19']['tweets_16_02'],client['Covid19']['tweets_27_02'], client['Covid19']['tweets_28_02'],client['Covid19']['tweets_29_02'], client['Covid19']['tweets_01_03'],client['Covid19']['tweets_02_03'], client['Covid19']['tweets_03_03'],client['Covid19']['tweets_14_03'], client['Covid19']['tweets_15_03'],client['Covid19']['tweets_16_03'], client['Covid19']['tweets_29_03'], client['Covid19']['tweets_30_03'], client['Covid19']['tweets_31_03'],client['Covid19']['tweets_01_04'], client['Covid19']['tweets_02_04'],client['Covid19']['tweets_03_04'], client['Covid19']['tweets_14_04'],client['Covid19']['tweets_15_04'], client['Covid19']['tweets_16_04'],client['Covid19']['tweets_28_04'], client['Covid19']['tweets_29_04'],client['Covid19']['tweets_30_04'], client['Covid19']['tweets_01_05']]\n",
    "tweets_dictionary = tweets_dic(collections)"
   ]
  },
  {
   "cell_type": "markdown",
   "metadata": {},
   "source": [
    "###### A lot of information were stored at the beginning but during our study we realised that it was better to keep just the full text of each tweet so we created a function that would do that and so now a new dictionary is created that has as values a list containing the tweets of the associated collection."
   ]
  },
  {
   "cell_type": "code",
   "execution_count": 11,
   "metadata": {
    "scrolled": true
   },
   "outputs": [],
   "source": [
    "full_text_dict = get_tweet_text(tweets_dictionary)"
   ]
  },
  {
   "cell_type": "markdown",
   "metadata": {},
   "source": [
    "###### Unfortunately many tweets had nothing to do with God or Christianity because the first screening that was made was just looking if that word was in text so for example, if the word that it was looking for was \"amen\" and there was a tweet like \" I ate ramen today\", this tweet would have been chosen, but it has nothing to do with our research. We tried to look for specific words on MongoDB Compass but apparently is not that easy, so we decided to write a simple function in python that would do the work. We created two lists, one for the words and one for the hashtags and then we put them together."
   ]
  },
  {
   "cell_type": "code",
   "execution_count": 12,
   "metadata": {},
   "outputs": [],
   "source": [
    "christian_words = ['god', 'jesus', 'bible', 'church', 'dio', 'dios', 'Gesù','gesu', 'gesù', 'gesú', 'christian', 'christianity', 'holy spirit', 'faith', 'amen', 'christ', 'gospel', 'grace', 'worship', 'catholic', 'pentecostal', 'pray','prayer', 'prayers', 'praying', 'prayed', 'bibbia', 'preghiera', 'preghiamo', 'prega']\n",
    "christian_hashtags = ['#god', '#jesus', '#bible', '#church', '#dio', '#dios','#gesu', '#gesù', '#gesú','#christian', '#christianity', '#holyspirit', '#faith', '#amen', '#christ', '#gospel', '#grace', '#worship', '#catholic', '#pentecostal', '#pray', '#prayer', '#bibleverse', '#holyspirit', '#godisgood', '#jesussaves', '#bibbia']\n",
    "christian_search = christian_words + christian_hashtags\n",
    "christian_tweets_dictionary = get_christian_tweets(full_text_dict, christian_search)"
   ]
  },
  {
   "cell_type": "markdown",
   "metadata": {},
   "source": [
    "###### During our analysis we have realised that the majority of the tweets containing praying words were classified as a negative sentiment, as opposite though, this is exactly what we were looking for, people who put their trust on God instead of the circumstances the world was facing. So we looked for these tweets and we did an hand classification for 3 of the collections, we know that it is not the best way and probably we are losing a lot of information but to us it seemed to be the only thing that we could do with the knowledge we hold now. Here we will show just what has been done with the collection 'tweets_15_03'."
   ]
  },
  {
   "cell_type": "code",
   "execution_count": 13,
   "metadata": {},
   "outputs": [],
   "source": [
    "christian_tweets_test = list(christian_tweets_dictionary['tweets_15_03'])\n",
    "\n",
    "pray_tweets =[]\n",
    "pray_words = ['pray', 'prayer', '#pray', '#prayer', 'praying', 'prayed', 'preghiera', 'preghiamo', 'prega']\n",
    "\n",
    "for a_tweet in christian_tweets_test:\n",
    "    for a_word in pray_words:\n",
    "        if a_word in a_tweet.lower().split():\n",
    "            pray_tweets.append(a_tweet)\n",
    "            break\n",
    "        else:\n",
    "            continue"
   ]
  },
  {
   "cell_type": "markdown",
   "metadata": {},
   "source": [
    "######  After classifying the tweets of this collection we count how many of them were classified as negative"
   ]
  },
  {
   "cell_type": "code",
   "execution_count": 14,
   "metadata": {},
   "outputs": [
    {
     "name": "stdout",
     "output_type": "stream",
     "text": [
      "52\n"
     ]
    }
   ],
   "source": [
    "sentiment_list = []\n",
    "for tweet in pray_tweets:\n",
    "    Tweet_cleaned= remove_noise(word_tokenize(tweet))\n",
    "    sentiment_list.append(classifier.classify(dict([token,True] for token in Tweet_cleaned)))\n",
    "num_neg = 0\n",
    "for a_sentiment in sentiment_list:\n",
    "    if a_sentiment == 'Negative':\n",
    "        num_neg += 1\n",
    "\n",
    "print(num_neg)"
   ]
  },
  {
   "cell_type": "markdown",
   "metadata": {},
   "source": [
    "###### Now let us get the indexes of this negative tweets and put them in a list"
   ]
  },
  {
   "cell_type": "code",
   "execution_count": 15,
   "metadata": {},
   "outputs": [],
   "source": [
    "negative_indexes = [i for i in range(len(sentiment_list)) if sentiment_list[i] == 'Negative']"
   ]
  },
  {
   "cell_type": "markdown",
   "metadata": {},
   "source": [
    "###### Now let us use this list to print all this negative tweets and to analyse them one by one to see which ones were miscalssified"
   ]
  },
  {
   "cell_type": "code",
   "execution_count": 16,
   "metadata": {},
   "outputs": [
    {
     "name": "stdout",
     "output_type": "stream",
     "text": [
      "0 RT @donwinslow: Devin Nunes is the guy you pray your daughter never brings home.\n",
      "\n",
      "Devin Nunes is the first guy eaten if your plane crashes…\n",
      "------------------------------------------------------\n",
      "2 I was preaching this while the virus was still in China. The Deep State CREATED this shit. It was their last plan. The only plan. I pray it doesn't work. https://t.co/EK0WQirkeO\n",
      "------------------------------------------------------\n",
      "4 RT @eugenegu: @realDonaldTrump I pray that medical science and reason prevail over ignorance and selfishness during the coronavirus pandemi…\n",
      "------------------------------------------------------\n",
      "5 RT @HananyaNaftali: Let’s pray to see a solution to Coronavirus. 🙏 https://t.co/CSNsnJ7eHq\n",
      "------------------------------------------------------\n",
      "9 “Casting all your anxieties on him, because he cares for you.” 1 Peter 5:7\n",
      "\n",
      "#COVID19\n",
      "#Coronavirusireland\n",
      "#scripture\n",
      "#havefaith\n",
      "#pray\n",
      "------------------------------------------------------\n",
      "11 Pope Francis walked along the Via del Corso, usually one of Rome’s busiest streets, and made a pilgrimage to the church of St. Marcellus to pray for an end to the #coronavirus pandemic. https://t.co/CX0eCp4Hxo\n",
      "------------------------------------------------------\n",
      "15 @dutchsheets Father God, we pray, halt the spread of the coronavirus and cause the virus to die out. We pray for mercy for the nations, and healing for all those who are affected. We declare over all our households, that no plague can touch any member of our family.\n",
      "------------------------------------------------------\n",
      "16 RT @PndmcSrvvrsUSA: ☣️I pray that we all adjust to the new world with grace\n",
      "☣️When you see people struggling to adjust, help them adjust mo…\n",
      "------------------------------------------------------\n",
      "18 RT @drmoore: As we are dispersed in our homes this Lord’s Day, let’s pray for one another, and especially for those who are most vulnerable…\n",
      "------------------------------------------------------\n",
      "19 Times. Like. These. A Pandemic? More of a reason to look in the mirror. To seek answers within and how we are living our one life. My prayer is that we all find a way to individually and collectively care for ourselves and one another. https://t.co/ZTvZWRcUZo https://t.co/0BiTEIbR09\n",
      "------------------------------------------------------\n",
      "20 @trvanes @LydiaRimaldi Sadly, they probably already are swamped or at least stretched very thin. Praying for you and your son, Lydia.\n",
      "\n",
      "https://t.co/jhpSzoN6gd\n",
      "------------------------------------------------------\n",
      "21 RT @AFP: Pope Francis left Vatican City on Sunday to pray in a Rome cathedral for coronavirus victims as Italy's death toll hit a one-day h…\n",
      "------------------------------------------------------\n",
      "22 RT @ShonDaddymore: everyone pray for Michael Thomas he’s at high risk for covid-19 because he catches everything🙏🏼 https://t.co/C6wlOeQ9So\n",
      "------------------------------------------------------\n",
      "25 Pray the Coronavirus away!!!! https://t.co/6YQgfuNLw7\n",
      "------------------------------------------------------\n",
      "27 RT @juanajaafar: Heartening that the mu’azzin got emotional not when calling people to pray at home, rather when reciting “God is Great; th…\n",
      "------------------------------------------------------\n",
      "29 RT @NECROMANClNG: hey um quick question why, the pray tell fuck, are we still expecting motherfuckers to show up and vote during a pandemic…\n",
      "------------------------------------------------------\n",
      "30 Praying for those at the front lines of trying to get the Coronavirus situation under control all across the world. Be safe. We don't know you but we pray for you. Thank you for the work you do. I know it doesn't seem like it but we appreciate you. #Prayers #ThankYou https://t.co/knHJoHWYik\n",
      "------------------------------------------------------\n",
      "33 Any comment @SenatorLankford? No, but you told us to pray today. https://t.co/7UsWWBa3Ns\n",
      "------------------------------------------------------\n",
      "36 While people are so quick to jump on the bandwagon &amp; find fault in people’s tweets, we can show some love &amp; compassion, we can pray for one another, we can pray for the elderly &amp; the sick &amp; the homeless, we can pray for those infected with the Coronavirus &amp; a cure for it.\n",
      "------------------------------------------------------\n",
      "38 The coronavirus is going to spread everywhere doesn't matter if live in a big town or small town all we can do is pray for all this to end Jesus needs to be in control get to know Jesus we all need his help God bless all\n",
      "------------------------------------------------------\n",
      "42 My church closed down due to #coronavirus \n",
      "Will the Prayer line be open at least?\n",
      "------------------------------------------------------\n",
      "44 @MysterySolvent Like she should pray that he husband and his brother avoid jail time if they delayed testing people for COVID-19 to give him time to set up OSCAR for a great big government contract.\n",
      "------------------------------------------------------\n",
      "48 RT @JennaBrowder: “Rejoice always, pray continually, give thanks in all circumstances — for this is God’s will for you in Christ Jesus.” -…\n",
      "------------------------------------------------------\n",
      "49 RT @rajnish1Midas: #Coronaindia #coronovirusindia #coronavirus #CoronaOutbreak\n",
      "\n",
      "I am praying for the world.\n",
      "\n",
      "I want all in mankind, safe &amp;…\n",
      "------------------------------------------------------\n",
      "50 God helps those who help themselves.\n",
      "\"Prayer, the last refuge of a scoundrel.\" Lisa Simpson. (The episode where she watched Bart pray after squandering a snow day playing instead of studying for a test) https://t.co/4gauJQ4dHt\n",
      "------------------------------------------------------\n",
      "54 I’ve been calm but realistic until now, hoping for @GOP to make the right choices. It’s too little too late now. The avalanche is at full speed. I pray for our frontline healthcare workers🙏🏼 #ShutItDown #StopTheSpread #StayTheFHome #SocialDistancingNow #ResignNowtrump #Resist https://t.co/z2y8vBJteJ\n",
      "------------------------------------------------------\n",
      "55 Pray!!.\n",
      "\n",
      "Every public space can get you exposed to the pandemic Corona Virus.\n",
      "\n",
      "Just Pray that God is with you throughout everything..\n",
      "------------------------------------------------------\n",
      "57 Today was phenomenal,  I felt the heart of millions praying earnestly for the world to be healed and free from the novel virus (COVID-19). I hope the aftermath of this situation brings better understanding and unity amongst the nations of the world.\n",
      "------------------------------------------------------\n",
      "63 RT @B52Malmet: I pray for the homeless. I pray for kids grabbed from their parents “detained” at the border. I pray for Native Americans to…\n",
      "------------------------------------------------------\n",
      "64 Hello guy have a happy sunday and remember to pray for the nation corona won't finish us we have an able God\n",
      "------------------------------------------------------\n",
      "66 RT @krdar_mohammed: When you save yourself, you save the others around you too, so lets stay home and pray for God to show his mercy on us…\n",
      "------------------------------------------------------\n",
      "67 RT @DLCAVA: On this #DayOfPrayer, we pray for all families impacted by #coronavirus at home and across the globe, and particularly for the…\n",
      "------------------------------------------------------\n",
      "69 Kaya natin yan! SARS nga na over come natin eto pa kaya? Sumunod lang tayo para mas maganda ung outcome! Pray pray pray! https://t.co/hwUIVTLHgl\n",
      "------------------------------------------------------\n",
      "70 RT @Chris767Roberts: Pray for me in thistle fields, \n",
      "I will point out five-dimensional skies, \n",
      "mourn my death by the vaunted coronavirus,…\n",
      "------------------------------------------------------\n",
      "71 im encouraging everyone to pray for the world’s current situation. we have the Oratio Imperata— a prayer to stop the spreading of the Corona Virus, I suggest for you to stop everything that you’re doing and ask for guidance and help even in just a short ample of time. https://t.co/FZtgwdFPoa\n",
      "------------------------------------------------------\n",
      "74 RT @MamaRedfield: We are so blessed by your mom's wisdom during this crisis. Praying for her and her health &amp; safety. #COVID19\n",
      "------------------------------------------------------\n",
      "76 Relax lang po kayo wag po agad mag panic sa Covid-19 na yan kasi We have Jesus all we need is to pray kasi di niya tayo pababayaan🤗💕Pagsubok lang yan guys💕\n",
      "------------------------------------------------------\n",
      "77 RT @juliaanovel: Let’s take a moment to pray for the world. May this pandemic be over soon. Faith is stronger than fear 🙏🏼\n",
      "------------------------------------------------------\n",
      "78 So so sad. Pray they survive. \n",
      "#covidー19uk #coronapocolypse #coronavirus #NationalEmergency #COVID19 https://t.co/kUstb8XkWh\n",
      "------------------------------------------------------\n",
      "79 RT @mvmeet: We pray that not even our enemy nation gets infected by Corona virus\n",
      "\n",
      "But former Chief of Election Commission SY Quraishi wishe…\n",
      "------------------------------------------------------\n",
      "83 RT @drantipas: We must pray together in faith through these tough tImes.\n",
      "#COVID_19 #coronavirus #praying #believingGod #inittogether❤️ http…\n",
      "------------------------------------------------------\n",
      "84 RT @MikayesFiona: What he meant to say is Dems are wishing, hoping, and praying for worse stats possible to push Trump out of office.\n",
      "\n",
      "But…\n",
      "------------------------------------------------------\n",
      "87 #Contagion #coronavirus eerily similarities 😑!! Prophetic. Mind you the movies went to theatres in #2011 if we live to tell d tale about this #apocalypse 🤞stay safe, eat healthy, love your families and pray 🙏🏻🙏🏻!!\n",
      "------------------------------------------------------\n",
      "88 I agree with both of your statements, but hey millions of people praying isn't a bad thing! https://t.co/TD9nx0V8Hs\n",
      "------------------------------------------------------\n",
      "89 Because of the Covid-19 outbreak, my kids have been given a limit of 1 toilet paper piece a day. Even so, my oldest son has contracted the virus and I may die because of my age. Please pray for me. Thank you!❤️💖❤️\n",
      "------------------------------------------------------\n",
      "90 RT @BettyBowers: On this #NationalDayOfPrayer, pray that next time a pandemic strikes, we have a president who is actually competent, and a…\n",
      "------------------------------------------------------\n",
      "98 The Goodnews that we need. \n",
      "🙏🙏🙏\n",
      "Lets all Pray for their Healing. \n",
      "#PrayForTheWorld https://t.co/G7cMcMYRaQ\n",
      "------------------------------------------------------\n",
      "99 RT @ABC: Pope Francis made surprise visits to two churches in Rome, praying at a crucifix dating back to the 1522 plague, with the pope see…\n",
      "------------------------------------------------------\n",
      "100 @B52Malmet I pray for the health care providers, on the front lines I pray for EMT and Fire Dept. I pray for the disabled who rely on their SSI. I pray for small business. I pray for the world, this pandemic is all of us, affected. (🌎)\n",
      "------------------------------------------------------\n",
      "102 &amp; I fuckin pray the get squatters rights ! https://t.co/KrIYsUx58Y\n",
      "------------------------------------------------------\n",
      "104 @harriszainul @GaneshPramod Allegedly if you pray hard enough, you will be blessed from corona virus.\n",
      "------------------------------------------------------\n",
      "105 RT @marlananicolee: Pray for me steppin out...hope the coronavirus don’t catch me😷\n",
      "------------------------------------------------------\n"
     ]
    }
   ],
   "source": [
    "for index in negative_indexes:\n",
    "    print(str(index) + ' ' + pray_tweets[index])\n",
    "    print('------------------------------------------------------')"
   ]
  },
  {
   "cell_type": "markdown",
   "metadata": {},
   "source": [
    "###### As an example of misclassified tweets and one well classified we can see these ones which are extracted from the ones printed in previous cell"
   ]
  },
  {
   "cell_type": "code",
   "execution_count": 20,
   "metadata": {},
   "outputs": [
    {
     "name": "stdout",
     "output_type": "stream",
     "text": [
      "This is a positive misclassified tweet: \n",
      "“Casting all your anxieties on him, because he cares for you.” 1 Peter 5:7\n",
      "\n",
      "#COVID19\n",
      "#Coronavirusireland\n",
      "#scripture\n",
      "#havefaith\n",
      "#pray\n",
      "\n",
      "This is a positive misclassified tweet: \n",
      "@dutchsheets Father God, we pray, halt the spread of the coronavirus and cause the virus to die out. We pray for mercy for the nations, and healing for all those who are affected. We declare over all our households, that no plague can touch any member of our family.\n",
      "\n",
      "This is a negative well classified tweet: \n",
      "RT @MikayesFiona: What he meant to say is Dems are wishing, hoping, and praying for worse stats possible to push Trump out of office.\n",
      "\n",
      "But…\n",
      "\n",
      "This is a positive misclassified tweet: \n",
      "RT @JoyLinPark: @sxdoc There’s no better time than now to pray for our country, citizens, leaders &amp; @POTUS. \n",
      "\n",
      "🙏 #America needs #Prayer duri…\n",
      "\n"
     ]
    }
   ],
   "source": [
    "indexes = [9, 15, 84, 95]\n",
    "for an_index in indexes:\n",
    "    if an_index == 84:\n",
    "        print('This is a negative well classified tweet: \\n' + pray_tweets[an_index] + '\\n')\n",
    "    else:\n",
    "        print('This is a positive misclassified tweet: \\n' + pray_tweets[an_index] + '\\n')"
   ]
  },
  {
   "cell_type": "markdown",
   "metadata": {},
   "source": [
    "###### In this case 37 over 61 tweets were misclassified, in the othere two cases 84 over 106 and 46 over 73. We summed this quantities and then divided the result by 3 in order to get an average which we called fixing_factor, that will be used in the next function to count the number of positive and negative tweets."
   ]
  },
  {
   "cell_type": "markdown",
   "metadata": {},
   "source": [
    "###### The function get_sentiment_dict will first classify all the tweets as positive or negative, then it will call the function count_sentiment, which will count the number of positive and negative tweets for each collection using the fixing_factor and then create a final dictionary that has as keys the collections names and as values a dictionary containing the number of positive and negative tweets."
   ]
  },
  {
   "cell_type": "code",
   "execution_count": 18,
   "metadata": {},
   "outputs": [
    {
     "name": "stdout",
     "output_type": "stream",
     "text": [
      "{'tweets_01_02': {'pos': 217, 'neg': 119}, 'tweets_02_02': {'pos': 293, 'neg': 209}, 'tweets_03_02': {'pos': 178, 'neg': 87}, 'tweets_14_02': {'pos': 238, 'neg': 102}, 'tweets_15_02': {'pos': 233, 'neg': 99}, 'tweets_16_02': {'pos': 203, 'neg': 95}, 'tweets_27_02': {'pos': 262, 'neg': 178}, 'tweets_28_02': {'pos': 289, 'neg': 158}, 'tweets_29_02': {'pos': 174, 'neg': 105}, 'tweets_01_03': {'pos': 195, 'neg': 106}, 'tweets_02_03': {'pos': 210, 'neg': 117}, 'tweets_03_03': {'pos': 224, 'neg': 116}, 'tweets_14_03': {'pos': 269, 'neg': 102}, 'tweets_15_03': {'pos': 260, 'neg': 117}, 'tweets_16_03': {'pos': 330, 'neg': 141}, 'tweets_29_03': {'pos': 351, 'neg': 175}, 'tweets_30_03': {'pos': 429, 'neg': 178}, 'tweets_31_03': {'pos': 287, 'neg': 154}, 'tweets_01_04': {'pos': 273, 'neg': 169}, 'tweets_02_04': {'pos': 272, 'neg': 165}, 'tweets_03_04': {'pos': 343, 'neg': 160}, 'tweets_14_04': {'pos': 361, 'neg': 196}, 'tweets_15_04': {'pos': 295, 'neg': 163}, 'tweets_16_04': {'pos': 364, 'neg': 174}, 'tweets_28_04': {'pos': 298, 'neg': 160}, 'tweets_29_04': {'pos': 290, 'neg': 141}, 'tweets_30_04': {'pos': 288, 'neg': 151}, 'tweets_01_05': {'pos': 262, 'neg': 138}}\n"
     ]
    }
   ],
   "source": [
    "sentiment_count_dictionary = get_sentiment_dict(christian_tweets_dictionary, classifier)\n",
    "print(sentiment_count_dictionary)"
   ]
  },
  {
   "cell_type": "markdown",
   "metadata": {},
   "source": [
    "###### Let us now plot our results in order to visualize the data obtained"
   ]
  },
  {
   "cell_type": "code",
   "execution_count": 19,
   "metadata": {
    "scrolled": true
   },
   "outputs": [
    {
     "data": {
      "image/png": "[encoded data removed]",
      "text/plain": [
       "<Figure size 432x288 with 1 Axes>"
      ]
     },
     "metadata": {
      "needs_background": "light"
     },
     "output_type": "display_data"
    }
   ],
   "source": [
    "# extract information from sentiment_count_dictionary\n",
    "\n",
    "x = list(sentiment_count_dictionary.keys())\n",
    "y = [[sentiment_count_dictionary[a_key][i] for i in sentiment_count_dictionary[a_key].keys()] for a_key in x] #creates a list of lists of two elements\n",
    "\n",
    "# data to plot\n",
    "n_groups = len(x)\n",
    "positive_sentiment = tuple([y[i][0] for i in range(len(y))]) #first element of each list is the positive count\n",
    "negative_sentiment = tuple([y[i][1] for i in range(len(y))]) #second element of each list is the negative count\n",
    "\n",
    "# create plot\n",
    "fig, ax = plt.subplots()\n",
    "index = np.arange(n_groups)\n",
    "bar_width = 0.35\n",
    "opacity = 0.8\n",
    "\n",
    "rects1 = plt.bar(index, positive_sentiment, bar_width,\n",
    "alpha=opacity,\n",
    "color='b',\n",
    "label='Positive Sentiment')\n",
    "\n",
    "rects2 = plt.bar(index + bar_width, negative_sentiment, bar_width,\n",
    "alpha=opacity,\n",
    "color='r',\n",
    "label='Negative Sentiment')\n",
    "\n",
    "plt.xlabel('Sentiment by Dates')\n",
    "plt.ylabel('Amount')\n",
    "plt.title('Faith Response to Coronavirus')\n",
    "plt.xticks(index + bar_width, tuple(x))\n",
    "plt.xticks(rotation=90)\n",
    "plt.legend()\n",
    "\n",
    "plt.tight_layout()\n",
    "plt.show()"
   ]
  },
  {
   "cell_type": "markdown",
   "metadata": {},
   "source": [
    "###### When the news of the virus came out people started posting about God, but then by the end of the first month it significantly dropped, this was probably due to the fact that it was not taken seriously, mostly in the United States. But then in March it became a reality for almost all the world so we see an increase during the month of March and for the month of April there was an almost stationary trend. It is how the positve sentiment outperforms the negative one for all the days. Usually people believe that God punishes people for their mistakes, but in this case we have seen how people actually turn to God when the times were rough and hopeless."
   ]
  },
  {
   "cell_type": "code",
   "execution_count": null,
   "metadata": {},
   "outputs": [],
   "source": []
  }
 ],
 "metadata": {
  "kernelspec": {
   "display_name": "Python 3",
   "language": "python",
   "name": "python3"
  },
  "language_info": {
   "codemirror_mode": {
    "name": "ipython",
    "version": 3
   },
   "file_extension": ".py",
   "mimetype": "text/x-python",
   "name": "python",
   "nbconvert_exporter": "python",
   "pygments_lexer": "ipython3",
   "version": "3.7.6"
  }
 },
 "nbformat": 4,
 "nbformat_minor": 4
}
